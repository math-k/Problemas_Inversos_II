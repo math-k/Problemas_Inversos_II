{
 "cells": [
  {
   "cell_type": "markdown",
   "metadata": {},
   "source": [
    "## Trabalho 4: Inversão de dados sintéticos de tomografia sísmica pelo método do gradiente conjugado aplicado as equações normais\n",
    "### Disciplina: Problemas Inversos II\n",
    "### Professor: Raphael Vieira Menezes de Souza\n",
    "### Aluno: Matheus Klatt\n"
   ]
  },
  {
   "cell_type": "markdown",
   "metadata": {},
   "source": [
    "1) Importando os módulos que contém as funções necessárias a realização do trabalho"
   ]
  },
  {
   "cell_type": "code",
   "execution_count": 1,
   "metadata": {
    "collapsed": true
   },
   "outputs": [],
   "source": [
    "#1)\n",
    "import pandas as pd\n",
    "import numpy as np\n",
    "import matplotlib.pyplot as plt\n",
    "import sklearn\n",
    "from sklearn import metrics, linear_model, preprocessing\n",
    "import seaborn as sns\n",
    "%matplotlib inline"
   ]
  },
  {
   "cell_type": "markdown",
   "metadata": {},
   "source": [
    "2) Leitura do arquivo \"tomo.txt\", o qual contém na primeira coluna um inteiro que identifica o raio e na segunda coluna o tempo de chegada do raio no receptor"
   ]
  },
  {
   "cell_type": "code",
   "execution_count": 2,
   "metadata": {
    "collapsed": true
   },
   "outputs": [],
   "source": [
    "#2)\n",
    "trab4_df=pd.read_csv(\"tomo.txt\",header=None,sep=\"\\t\",names=[\"Raio\",\"d\"])"
   ]
  },
  {
   "cell_type": "markdown",
   "metadata": {},
   "source": [
    "3) Visualizando o dataframe que contém os dados, e verificando que foram lidos, criados e agrupados corretamente"
   ]
  },
  {
   "cell_type": "code",
   "execution_count": 3,
   "metadata": {},
   "outputs": [
    {
     "data": {
      "text/html": [
       "<div>\n",
       "<style scoped>\n",
       "    .dataframe tbody tr th:only-of-type {\n",
       "        vertical-align: middle;\n",
       "    }\n",
       "\n",
       "    .dataframe tbody tr th {\n",
       "        vertical-align: top;\n",
       "    }\n",
       "\n",
       "    .dataframe thead th {\n",
       "        text-align: right;\n",
       "    }\n",
       "</style>\n",
       "<table border=\"1\" class=\"dataframe\">\n",
       "  <thead>\n",
       "    <tr style=\"text-align: right;\">\n",
       "      <th></th>\n",
       "      <th>Raio</th>\n",
       "      <th>d</th>\n",
       "    </tr>\n",
       "  </thead>\n",
       "  <tbody>\n",
       "    <tr>\n",
       "      <th>0</th>\n",
       "      <td>1</td>\n",
       "      <td>0.00400</td>\n",
       "    </tr>\n",
       "    <tr>\n",
       "      <th>1</th>\n",
       "      <td>2</td>\n",
       "      <td>0.00400</td>\n",
       "    </tr>\n",
       "    <tr>\n",
       "      <th>2</th>\n",
       "      <td>3</td>\n",
       "      <td>0.00267</td>\n",
       "    </tr>\n",
       "    <tr>\n",
       "      <th>3</th>\n",
       "      <td>4</td>\n",
       "      <td>0.00267</td>\n",
       "    </tr>\n",
       "    <tr>\n",
       "      <th>4</th>\n",
       "      <td>5</td>\n",
       "      <td>0.00400</td>\n",
       "    </tr>\n",
       "    <tr>\n",
       "      <th>5</th>\n",
       "      <td>6</td>\n",
       "      <td>0.00400</td>\n",
       "    </tr>\n",
       "    <tr>\n",
       "      <th>6</th>\n",
       "      <td>7</td>\n",
       "      <td>0.00267</td>\n",
       "    </tr>\n",
       "    <tr>\n",
       "      <th>7</th>\n",
       "      <td>8</td>\n",
       "      <td>0.00267</td>\n",
       "    </tr>\n",
       "    <tr>\n",
       "      <th>8</th>\n",
       "      <td>9</td>\n",
       "      <td>0.00141</td>\n",
       "    </tr>\n",
       "    <tr>\n",
       "      <th>9</th>\n",
       "      <td>10</td>\n",
       "      <td>0.00283</td>\n",
       "    </tr>\n",
       "    <tr>\n",
       "      <th>10</th>\n",
       "      <td>11</td>\n",
       "      <td>0.00424</td>\n",
       "    </tr>\n",
       "    <tr>\n",
       "      <th>11</th>\n",
       "      <td>12</td>\n",
       "      <td>0.00566</td>\n",
       "    </tr>\n",
       "    <tr>\n",
       "      <th>12</th>\n",
       "      <td>13</td>\n",
       "      <td>0.00330</td>\n",
       "    </tr>\n",
       "    <tr>\n",
       "      <th>13</th>\n",
       "      <td>14</td>\n",
       "      <td>0.00094</td>\n",
       "    </tr>\n",
       "    <tr>\n",
       "      <th>14</th>\n",
       "      <td>15</td>\n",
       "      <td>0.00047</td>\n",
       "    </tr>\n",
       "    <tr>\n",
       "      <th>15</th>\n",
       "      <td>16</td>\n",
       "      <td>0.00141</td>\n",
       "    </tr>\n",
       "    <tr>\n",
       "      <th>16</th>\n",
       "      <td>17</td>\n",
       "      <td>0.00283</td>\n",
       "    </tr>\n",
       "    <tr>\n",
       "      <th>17</th>\n",
       "      <td>18</td>\n",
       "      <td>0.00330</td>\n",
       "    </tr>\n",
       "    <tr>\n",
       "      <th>18</th>\n",
       "      <td>19</td>\n",
       "      <td>0.00377</td>\n",
       "    </tr>\n",
       "    <tr>\n",
       "      <th>19</th>\n",
       "      <td>20</td>\n",
       "      <td>0.00330</td>\n",
       "    </tr>\n",
       "    <tr>\n",
       "      <th>20</th>\n",
       "      <td>21</td>\n",
       "      <td>0.00283</td>\n",
       "    </tr>\n",
       "    <tr>\n",
       "      <th>21</th>\n",
       "      <td>22</td>\n",
       "      <td>0.00141</td>\n",
       "    </tr>\n",
       "  </tbody>\n",
       "</table>\n",
       "</div>"
      ],
      "text/plain": [
       "    Raio        d\n",
       "0      1  0.00400\n",
       "1      2  0.00400\n",
       "2      3  0.00267\n",
       "3      4  0.00267\n",
       "4      5  0.00400\n",
       "5      6  0.00400\n",
       "6      7  0.00267\n",
       "7      8  0.00267\n",
       "8      9  0.00141\n",
       "9     10  0.00283\n",
       "10    11  0.00424\n",
       "11    12  0.00566\n",
       "12    13  0.00330\n",
       "13    14  0.00094\n",
       "14    15  0.00047\n",
       "15    16  0.00141\n",
       "16    17  0.00283\n",
       "17    18  0.00330\n",
       "18    19  0.00377\n",
       "19    20  0.00330\n",
       "20    21  0.00283\n",
       "21    22  0.00141"
      ]
     },
     "execution_count": 3,
     "metadata": {},
     "output_type": "execute_result"
    }
   ],
   "source": [
    "#3)\n",
    "trab4_df"
   ]
  },
  {
   "cell_type": "markdown",
   "metadata": {},
   "source": [
    "4) Em problemas inversos de tomografia sísmica o meio no qual os raios se deslocam é comumente discretizado em blocos de dimensões uniformes. Aqui tratamos de um meio simples de geometria quadrada e $L = 4$ m de lado discretizado em blocos também quadrados de $l = 1$ m de lado, conforme a figura a seguir:\n",
    "\n",
    "<img src=\"model_py.png\"/>\n",
    "\n",
    "Nesta parametrização os elementos de $\\mathbf{G}_{m x n}$ são simplesmente o comprimento da trajetória dos raios em cada um dos $s_{k}$ blocos percorridos por cada raio. Considerando as trajetórias de 22 raios disparados com a seguinte geometria:\n",
    "\n",
    "<img src=\"tomo_real_model.png\"/>\n",
    "\n",
    "Na matriz $\\mathbf{G}$ cada uma das $m = 22$ linhas corresponde a um dos raios, em ordem crescente de $t_{1}$ a $t_{22}$. Por sua vez as $n = 16$ colunas correspondem a cada um dos $s_{k}$ blocos da discretização do meio físico, da esquerda para a direita de $s_{1}$ a $s_{16}$. Portanto $\\mathbf{G}$ será escrita da seguinte forma:\n",
    "\n",
    "$\\begin{equation}\n",
    "\\mathbf{G}_{22 x 16}\n",
    "=\n",
    "\\begin{bmatrix}\n",
    "1 & 1 & 1 & 1 & 0 & 0 & 0 & 0 & 0 & 0 & 0 & 0 & 0 & 0 & 0 & 0 \\\\\n",
    "0 & 0 & 0 & 0 & 1 & 1 & 1 & 1 & 0 & 0 & 0 & 0 & 0 & 0 & 0 & 0 \\\\\n",
    "0 & 0 & 0 & 0 & 0 & 0 & 0 & 0 & 1 & 1 & 1 & 1 & 0 & 0 & 0 & 0 \\\\\n",
    "0 & 0 & 0 & 0 & 0 & 0 & 0 & 0 & 0 & 0 & 0 & 0 & 1 & 1 & 1 & 1 \\\\\n",
    " 1 & 0 & 0 & 0 & 1 & 0 & 0 & 0 & 1 & 0 & 0 & 0 & 1 & 0 & 0 & 0 \\\\\n",
    "0 & 1 & 0 & 0 & 0 & 1 & 0 & 0 & 0 & 1 & 0 & 0 & 0 & 1 & 0 & 0 \\\\\n",
    "0 & 0 & 1 & 0 & 0 & 0 & 1 & 0 & 0 & 0 & 1 & 0 & 0 & 0 & 1 & 0 \\\\\n",
    "0 & 0 & 0 & 1 & 0 & 0 & 0 & 1 & 0 & 0 & 0 & 1 & 0 & 0 & 0 & 1 \\\\\n",
    "\\sqrt{2} & 0 & 0 & 0 & 0 & 0 & 0 & 0 & 0 & 0 & 0 & 0 & 0 & 0 & 0 & 0 \\\\\n",
    "0 & \\sqrt{2} & 0 & 0 & \\sqrt{2} & 0 & 0 & 0 & 0 & 0 & 0 & 0 & 0 & 0 & 0 & 0 \\\\\n",
    "0 & 0 & \\sqrt{2} & 0 & 0 & \\sqrt{2} & 0 & 0 & \\sqrt{2} & 0 & 0 & 0 & 0 & 0 & 0 & 0 \\\\\n",
    "0 & 0 & 0 & \\sqrt{2} & 0 & 0 & \\sqrt{2} & 0 & 0 & \\sqrt{2} & 0 & 0 & \\sqrt{2} & 0 & 0 & 0 \\\\\n",
    "0 & 0 & 0 & 0 & 0 & 0 & 0 & \\sqrt{2} & 0 & 0 & \\sqrt{2} & 0 & 0 & \\sqrt{2} & 0 & 0 \\\\\n",
    "0 & 0 & 0 & 0 & 0 & 0 & 0 & 0 & 0 & 0 & 0 & \\sqrt{2} & 0 & 0 & \\sqrt{2} & 0 \\\\\n",
    "0 & 0 & 0 & 0 & 0 & 0 & 0 & 0 & 0 & 0 & 0 & 0 & 0 & 0 & 0 & \\sqrt{2}\\\\\n",
    "0 & 0 & 0 & \\sqrt{2} & 0 & 0 & 0 & 0 & 0 & 0 & 0 & 0 & 0 & 0 & 0 & 0 \\\\\n",
    "0 & 0 & \\sqrt{2} & 0 & 0 & 0 & 0 & \\sqrt{2} & 0 & 0 & 0 & 0 & 0 & 0 & 0 & 0 \\\\\n",
    "0 & \\sqrt{2} & 0 & 0 & 0 & 0 & \\sqrt{2} & 0 & 0 & 0 & 0 & \\sqrt{2} & 0 & 0 & 0 & 0 \\\\\n",
    "\\sqrt{2} & 0 & 0 & 0 & 0 & \\sqrt{2} & 0 & 0 & 0 & 0 & \\sqrt{2} & 0 & 0 & 0 & 0 & \\sqrt{2}\\\\\n",
    "0 & 0 & 0 & 0 & \\sqrt{2} & 0 & 0 & 0 & 0 & \\sqrt{2} & 0 & 0 & 0 & 0 & \\sqrt{2} & 0 \\\\\n",
    "0 & 0 & 0 & 0 & 0 & 0 & 0 & 0 & \\sqrt{2} & 0 & 0 & 0 & 0 & \\sqrt{2} & 0 & 0 \\\\\n",
    "0 & 0 & 0 & 0 & 0 & 0 & 0 & 0 & 0 & 0 & 0 & 0 & \\sqrt{2} & 0 & 0 & 0\n",
    "\\end{bmatrix}\n",
    "\\end{equation}$"
   ]
  },
  {
   "cell_type": "code",
   "execution_count": 4,
   "metadata": {},
   "outputs": [
    {
     "name": "stdout",
     "output_type": "stream",
     "text": [
      "Dimensões dos elementos do problema inverso, G, d e m_real: \n",
      " Shape G:  (22, 16) Shape d:  (22, 1) Shape m_real:  (4, 4) \n",
      "\n",
      "Velocidades do modelo real em m/s: \n",
      " [[1000. 1000. 1000. 1000.]\n",
      " [1000. 1000. 1000. 1000.]\n",
      " [1000. 1000. 3000. 3000.]\n",
      " [1000. 1000. 3000. 3000.]]\n"
     ]
    },
    {
     "data": {
      "text/plain": [
       "Text(0.5, 1.0, 'Representação esquemática de G:')"
      ]
     },
     "execution_count": 4,
     "metadata": {},
     "output_type": "execute_result"
    },
    {
     "data": {
      "image/png": "[encoded data removed]",
      "text/plain": [
       "<Figure size 432x288 with 2 Axes>"
      ]
     },
     "metadata": {},
     "output_type": "display_data"
    }
   ],
   "source": [
    "#4) Montagem de matrizes e vetores do problema, G, d e m.\n",
    "\n",
    "# Construção de G conforme detalhado em 4)\n",
    "G=np.zeros((22,16),dtype=np.float32)\n",
    "\n",
    "G[0,0:4]=1.0 #t1\n",
    "G[1,4:8]=1.0 #t2\n",
    "G[2,8:12]=1.0 #t3\n",
    "G[3,12:16]=1.0 #t4\n",
    "\n",
    "G[4,[0,4,8,12]]=1.0 #t5\n",
    "G[5,[1,5,9,13]]=1.0 #t6\n",
    "G[6,[2,6,10,14]]=1.0 #t7\n",
    "G[7,[3,7,11,15]]=1.0 #t8\n",
    "\n",
    "G[8,[0]]=np.sqrt(2) #t9\n",
    "G[9,[1,4]]=np.sqrt(2) #t10\n",
    "G[10,[2,5,8]]=np.sqrt(2) #t11\n",
    "G[11,[3,6,9,12]]=np.sqrt(2) #t12\n",
    "G[12,[7,10,13]]=np.sqrt(2) #t13\n",
    "G[13,[11,14]]=np.sqrt(2) #t14\n",
    "G[14,[15]]=np.sqrt(2) #t15\n",
    "\n",
    "G[15,[3]]=np.sqrt(2) #t16\n",
    "G[16,[2,7]]=np.sqrt(2) #t17\n",
    "G[17,[1,6,11]]=np.sqrt(2) #t18\n",
    "G[18,[0,5,10,15]]=np.sqrt(2) #t19\n",
    "G[19,[4,9,14]]=np.sqrt(2) #t20\n",
    "G[20,[8,13]]=np.sqrt(2) #t21\n",
    "G[21,[12]]=np.sqrt(2) #t22\n",
    "\n",
    "\n",
    "# Construção do vetor de dados observados d, o qual contém os tempos de trânsito de cada um dos raios\n",
    "d=trab4_df[\"d\"].to_numpy().reshape((-1,1))\n",
    "\n",
    "# Construção do vetor m_real, o qual guarda as velocidades reais do meio em subsuperficie discretizada como \n",
    "# mostrado em 4)\n",
    "m_real=np.array([1000,1000,1000,1000,1000,1000,1000,1000,1000,1000,3000,3000,1000,1000,3000,3000],\n",
    "                        dtype=np.float32).reshape((4,4))\n",
    "\n",
    "# Verificando que G, d e m tem dimensões corretas\n",
    "print(\"Dimensões dos elementos do problema inverso, G, d e m_real: \\n\",\n",
    "      \"Shape G: \",G.shape,\"Shape d: \",d.shape,\"Shape m_real: \",m_real.shape,\"\\n\")\n",
    "\n",
    "# Verificando que os valores de velocidade do modelo real estao corretos\n",
    "print(\"Velocidades do modelo real em m/s: \\n\",m_real)\n",
    "\n",
    "# Verficando que os valores dos elementos de G estao de acordo com o exibido em 4)\n",
    "fig, (ax1) = plt.subplots(1,1)\n",
    "sns.heatmap(G,ax=ax1)\n",
    "ax1.set_title(\"Representação esquemática de G:\",fontsize=14)\n",
    "\n"
   ]
  },
  {
   "cell_type": "markdown",
   "metadata": {},
   "source": [
    "5) Os métodos iterativos para resolução de problemas inversos são especialmente úteis quando a problema tratado é de grande escala e a matriz $\\mathbf{G}_{m x n}$ possui mais de dezenas de milhares de linhas e colunas. Especificamente, quanto menos esparsa for $\\mathbf{G}_{m x n}$ maiores serão os custos computacionais para o uso de métodos diretos de resolução.\n",
    "\n",
    "Um destes métodos iterativos é o do gradiente conjugado. Este método em si só pode ser aplicado a sistemas de equações simétricos e positivo definidos, mas a formulação do problema como um problema de mínimos quadrados \n",
    "\n",
    "$\\begin{equation}\n",
    "min \\lvert\\lvert\\mathbf{G}\\mathbf{m} - \\mathbf{d}\\rvert\\rvert_{2}\n",
    "\\end{equation}$,\n",
    "\n",
    "permite a aplicação do gradiente conjugado as equações normais\n",
    "\n",
    "$\\begin{equation}\n",
    "\\mathbf{G}^{T}\\mathbf{G}\\mathbf{m} = \\mathbf{G}^{T}\\mathbf{d}\n",
    "\\end{equation}$\n",
    "\n",
    "Essencialmente o método constrói ao longo de $k$ iterações uma sequencia de vetores solução $\\mathbf{m}^{(k)}$ pelo seguinte algoritmo até que os critérios estabelecidos de convergência sejam satisfeitos:\n",
    "\n",
    "Iniciando as $k$ iterações com $k = 0$, $\\mathbf{m}^{(0)} = \\mathbf{0}$, $\\mathbf{p}^{(-1)} = \\mathbf{0}$, $\\beta^{(0)} = 0$, $\\mathbf{s}^{(0)} = \\mathbf{d} - \\mathbf{G}\\mathbf{m}^{(0)}$, e $\\mathbf{r}^{(0)} = \\mathbf{G}^{T}\\mathbf{s}^{(0)}$\n",
    "\n",
    "$\\textbf{enquanto}$ $(k < $ número máximo de iterações $)$ $\\textbf{faça}$\n",
    "<ol>\n",
    "<li>$\\beta^{(k)} = \\dfrac{\\mathbf{r}^{(k)T}\\mathbf{r}^{(k)}}{\\mathbf{r}^{(k-1)T}\\mathbf{r}^{(k-1)}}$</li>\n",
    "\n",
    "<li>$\\mathbf{p}^{(k)} = \\mathbf{r}^{(k)} +  \\beta^{(k)}\\mathbf{p}^{(k-1)}$</li>\n",
    "\n",
    "<li>$\\alpha^{(k)} = \\dfrac{\\lvert\\lvert\\mathbf{r}^{(k)}\\rvert\\rvert_{2}^{2}}{(\\mathbf{p}^{(k)T}\\mathbf{G}^{T})(\\mathbf{G}\\mathbf{p}^{(k)})}$</li>\n",
    "\n",
    "<li>$\\mathbf{m}^{(k+1)} = \\mathbf{m}^{(k)} + \\alpha^{(k)}\\mathbf{p}^{(k)}$</li>\n",
    "\n",
    "<li>$\\mathbf{s}^{(k+1)} = \\mathbf{s}^{(k)} - \\alpha^{(k)}\\mathbf{G}\\mathbf{p}^{(k)}$</li>\n",
    "\n",
    "<li>$\\mathbf{r}^{(k+1)} = \\mathbf{G}^{T}\\mathbf{s}^{(k+1)}$</li>\n",
    "\n",
    "<li>$k = k + 1$</li>\n",
    "</ol>\n",
    "\n",
    "Dentre as propriedades vantajosas do método do gradiente conjugado de mínimos quadrados ($\\textit{conjugate gradient least squares}$), CGLS, estão o fato da norma dos parâmetros do modelo $\\lvert\\lvert\\mathbf{m}^{(k)}\\rvert\\rvert_{2}$ aumentar monotonicamente a cada iteração e da norma dos resíduos $\\lvert\\lvert\\mathbf{d} - \\mathbf{G}\\mathbf{m}^{(k)}\\rvert\\rvert_{2}$ diminuir monotonicamente a cada iteração. Esta característica permite definir um critério de parada do algoritmo baseado na magnitude dos resíduos, o que funciona como uma forma de regularização da solução. Então uma verificação adicional pode ser incoporada antes do primeiro item do laço de $k$ iterações descrito acima\n",
    "\n",
    "- se $\\lvert\\lvert\\mathbf{d} - \\mathbf{G}\\mathbf{m}^{(k)}\\rvert\\rvert_{2} < \\tau$, parar o algoritmo, criterio de tolerância satisfeito. \n",
    "\n"
   ]
  },
  {
   "cell_type": "code",
   "execution_count": 5,
   "metadata": {
    "scrolled": true
   },
   "outputs": [
    {
     "name": "stdout",
     "output_type": "stream",
     "text": [
      "Iteration  100  of  1000\n",
      "Iteration  200  of  1000\n",
      "Iteration  300  of  1000\n",
      "Iteration  400  of  1000\n",
      "Iteration  500  of  1000\n",
      "Iteration  600  of  1000\n",
      "Iteration  700  of  1000\n",
      "Iteration  800  of  1000\n",
      "Iteration  900  of  1000\n",
      "Iteration  1000  of  1000\n"
     ]
    }
   ],
   "source": [
    "#5) Definição da função que implementa o algoritmo descrito em 5) \n",
    "# para o método de gradiente conjugado de mínimos quadrados (CGLS). A função CGLS_ recebe como parâmetros\n",
    "# o vetor de dados d e a matriz G, e possui como parâmetros opcionais o número máximo de iterações do algoritmo (kmax)\n",
    "# e também o critério de tolerância (tol) que deve ser atingido para que o método tenha sua execução interrompida\n",
    "# a função CGLS_ retorna as seguintes informações: ultimo modelo m^{k} obtido pelo algoritmo antes de ser\n",
    "# interrompido, assim como as últimas instancias de cada uma das variaveis r^{k},beta_{k-1},p^{k-1},s^{k},\n",
    "# as duas listas contendo as normas das soluções, mnl, e normas dos resíduos, rnl, \n",
    "# obtidas em todas as iterações até a parada e também o número total de iterações processadas, k.\n",
    "# No código abaixo, cada um dos passos do algoritmo descrito em 5) esta assinalado com a mesma numeração da lista \n",
    "# que detalha os passos, no formato: #1., #2., #3., #4., #5., #6., #7..\n",
    "def CGLS_(d,G,kmax=1000,tol=0.000001):\n",
    "    # Inicialização de m^{0} = 0.\n",
    "    m0=np.zeros((len(G[0,:]),1))\n",
    "    # Inicialização de beta_{0} = 0.\n",
    "    beta0=0.\n",
    "    # Inicialização de p^{-1} = 0.\n",
    "    p0=np.zeros((len(G[0,:]),1))\n",
    "    # Inicialização de s^{0} = d - Gm^{0}\n",
    "    s0=np.add(np.copy(d),-np.matmul(G,m0))\n",
    "    # Inicialização de r^{0} = G.Ts^{0}\n",
    "    r0=np.matmul(G.T,s0)\n",
    "    # Inicialização da variável que guarda a iteração atual k=0\n",
    "    k=0\n",
    "    # Lista que todas as normas das soluções obtidas até término da execução\n",
    "    mnl=[]\n",
    "    # Lista que todas as normas dos resíduos obtidos até término da execução\n",
    "    rnl=[]\n",
    "\n",
    "    while (k < kmax):\n",
    "        # condição que verifica se criterio de tolerancia foi atingido\n",
    "        if (np.linalg.norm(np.add(d,-np.matmul(G,m0)),2)< tol):\n",
    "            print(\"Tolerance value of \", tol, \" reached\")\n",
    "            break\n",
    "        # condição para evitar divisão por r^{0}=0. na primeira iteração    \n",
    "        if (k>0): \n",
    "        #1.\n",
    "            betak=np.matmul(r0.T,r0)/np.matmul(r_aux.T,r_aux)\n",
    "            # Guardando normas da solução e resíduos nas respectivas listas mnl e rnl\n",
    "            mnl.append(np.linalg.norm(m0,2))\n",
    "            rnl.append(np.linalg.norm(np.add(d,-np.matmul(G,m0)),2))\n",
    "        # na primeira iteração, k=0, beta^{k}=beta^{0}\n",
    "        else:\n",
    "            betak=beta0\n",
    "        #2.\n",
    "        pk=r0+betak*p0\n",
    "        #3.\n",
    "        alfak=np.linalg.norm(r0,2)**2/(np.matmul(np.matmul(pk.T,G.T),np.matmul(G,pk))+1e-8)\n",
    "        #4.\n",
    "        mk=m0+alfak*pk\n",
    "        #5.\n",
    "        sk=s0 - alfak*np.matmul(G,pk)\n",
    "        #6.\n",
    "        rk=np.matmul(G.T,sk)\n",
    "        \n",
    "        # Atualização dos valores de vetores e matrizes para próxima iteração\n",
    "        #r_{k-1} = r_{k}\n",
    "        r_aux=r0\n",
    "        #r_{k} = r_{k+1}\n",
    "        r0=rk\n",
    "        #p_{k-1} = p_{k}\n",
    "        p0=pk\n",
    "        #m_{k} = m_{k+1}\n",
    "        m0=mk\n",
    "        #s_{k} = s_{k+1}\n",
    "        s0=sk\n",
    "        \n",
    "        #7.\n",
    "        k=k+1\n",
    "        \n",
    "        # Exibição do número de iterações realizadas\n",
    "        if (k%(kmax/10)==0.):\n",
    "            print(\"Iteration \",k, \" of \",kmax)\n",
    "            \n",
    "    return(m0,r0,beta0,p0,s0,mnl,rnl,k)\n",
    "\n",
    "m_k,r_0,beta_0,p_0,s_0,mnl,rnl,k=CGLS_(d,G,1000)"
   ]
  },
  {
   "cell_type": "markdown",
   "metadata": {},
   "source": [
    "6) Começamos a avaliação do modelo $\\mathbf{m}^{(k)}$ obtido do método CGLS pela análise da curva de norma das soluções $\\lvert\\lvert\\mathbf{m}^{(k)}\\rvert\\rvert_{2}$,  contra a norma dos resíduos, $\\lvert\\lvert\\mathbf{d} - \\mathbf{G}\\mathbf{m}^{(k)}\\rvert\\rvert_{2}$."
   ]
  },
  {
   "cell_type": "code",
   "execution_count": 6,
   "metadata": {},
   "outputs": [
    {
     "data": {
      "image/png": "[encoded data removed]",
      "text/plain": [
       "<Figure size 770.4x446.4 with 1 Axes>"
      ]
     },
     "metadata": {},
     "output_type": "display_data"
    }
   ],
   "source": [
    "#6) Exibição da curva \"L\" resultante da aplicação do algoritmo CGLS\n",
    "\n",
    "fig_L, (ax1)=plt.subplots(1,1,figsize=(10.7,6.2))\n",
    "fig_L.set_facecolor(\"silver\")\n",
    "\n",
    "ax1.semilogx(rnl,mnl)\n",
    "ax1.set_title('Evolução das normas dos modelos e resíduos ao longo das {} iterações'.format(k),fontsize=14)\n",
    "ax1.set_xlabel('Norma dos resíduos',fontsize=13)\n",
    "ax1.set_ylabel('Norma da solução',fontsize=13)\n",
    "ax1.grid()"
   ]
  },
  {
   "cell_type": "markdown",
   "metadata": {},
   "source": [
    "7) A segunda parte consiste na comparação direta entre os parâmetros (velocidades) reais $\\mathbf{m}_{real}$ e os obtidos pelo CGLS em $\\mathbf{m}^{(k)}$. A discrepância entre os dois é medida pela diferença absoluta $\\lvert\\mathbf{m}^{(k)} - \\mathbf{m}_{real}\\rvert$ ."
   ]
  },
  {
   "cell_type": "code",
   "execution_count": 7,
   "metadata": {},
   "outputs": [
    {
     "data": {
      "text/plain": [
       "Text(0.5, 100.25011764705883, 'Distância horizontal (m)')"
      ]
     },
     "execution_count": 7,
     "metadata": {},
     "output_type": "execute_result"
    },
    {
     "data": {
      "image/png": "[encoded data removed]",
      "text/plain": [
       "<Figure size 1130.4x446.4 with 6 Axes>"
      ]
     },
     "metadata": {},
     "output_type": "display_data"
    }
   ],
   "source": [
    "#7) Visualização dos modelos de velocidade, real (m_real), estimado pelo CGLS (m^{(k)}) e \n",
    "# da diferença absoluta entre eles |m^{(k) - m_real|\n",
    "fig_L, (ax1)=plt.subplots(1,3,figsize=(15.7,6.2))\n",
    "fig_L.set_facecolor(\"silver\")\n",
    "sns.heatmap(m_real,ax=ax1[0],square=True,cmap=\"viridis\",linewidth=1,linecolor=\"red\",\n",
    "           cbar_kws={'label': 'Vp (m/s)'})\n",
    "sns.heatmap(1/m_k.reshape((4,4)),ax=ax1[1],square=True,cmap=\"viridis\",linewidth=1,linecolor=\"red\",\n",
    "           cbar_kws={'label': 'Vp (m/s)'})\n",
    "sns.heatmap(abs(m_real-1/m_k.reshape((4,4))),ax=ax1[2],square=True,cmap=\"viridis\",linewidth=1,linecolor=\"red\",\n",
    "           cbar_kws={'label': 'Vp (m/s)'})\n",
    "ax1[0].set_title(\"Modelo real, m_real\",fontsize=14)\n",
    "ax1[1].set_title(\"Modelo obtido por CGLS, m_k\",fontsize=14)\n",
    "ax1[2].set_title(\"|m_real - m_k|\",fontsize=14)\n",
    "\n",
    "ax1[0].set_xlabel('Distância horizontal (m)',fontsize=13)\n",
    "ax1[0].set_ylabel('Profundidade (m)',fontsize=13)\n",
    "ax1[1].set_xlabel('Distância horizontal (m)',fontsize=13)\n",
    "\n",
    "ax1[2].set_xlabel('Distância horizontal (m)',fontsize=13)\n",
    "\n"
   ]
  },
  {
   "cell_type": "code",
   "execution_count": 8,
   "metadata": {},
   "outputs": [
    {
     "name": "stdout",
     "output_type": "stream",
     "text": [
      "Modelo de velocidades real, m_real: \n",
      " [[1000. 1000. 1000. 1000.]\n",
      " [1000. 1000. 1000. 1000.]\n",
      " [1000. 1000. 3000. 3000.]\n",
      " [1000. 1000. 3000. 3000.]] \n",
      "\n",
      "Modelo de velocidades obtido do CGLS, m^{(k)}: \n",
      " [[1001.50276118  999.63774404  999.18314967 1000.69764283]\n",
      " [ 999.63774404 1002.62362238  998.44984751  999.66633844]\n",
      " [ 999.18314967  998.44984751 2992.64347084 3006.35915332]\n",
      " [1000.69764283  999.66633844 3006.35915332 2982.67970853]] \n",
      "\n",
      "Diferença absoluta entre modelo estimado e modelo real, |m_k-m_real|: \n",
      " [[ 1.50276118  0.36225596  0.81685033  0.69764283]\n",
      " [ 0.36225596  2.62362238  1.55015249  0.33366156]\n",
      " [ 0.81685033  1.55015249  7.35652916  6.35915332]\n",
      " [ 0.69764283  0.33366156  6.35915332 17.32029147]] \n",
      "\n"
     ]
    }
   ],
   "source": [
    "#8) Visualização quantitativa exata dos parâmetros do modelo real, m_real, modelo calculado com CGLS, m_k,\n",
    "# e da diferença absoluta entre os dois |m_k - m_real|\n",
    "print(\"Modelo de velocidades real, m_real: \\n\",(m_real),\"\\n\")\n",
    "print(\"Modelo de velocidades obtido do CGLS, m^{(k)}: \\n\",(1/m_k).reshape((4,4)),\"\\n\")\n",
    "print(\"Diferença absoluta entre modelo estimado e modelo real, |m_k-m_real|: \\n\",\n",
    "      abs((1/m_k).reshape((4,4))-m_real),\"\\n\")\n"
   ]
  },
  {
   "cell_type": "markdown",
   "metadata": {},
   "source": [
    "### Conclusão\n",
    "\n",
    "Embora a situação tratada no trabalho tenha sido de uma tomografia sísmica relativamente simples com modelo de velociddades de dimensões pequenas, foi possível observar o potencial do método iterativo CGLS, principalmente em relação a capacidade de convergência. A maior diferença absoluta observada entre parâmetros do modelo real $\\mathbf{m}_{real}$ e do modelo estimado pelo CGLS $\\mathbf{m}^{(k)}$ foi de menos de 1% (17.32 m/s para um valor real de 3000.0 m/s) do valor real do parâmetro considerado."
   ]
  },
  {
   "cell_type": "markdown",
   "metadata": {
    "collapsed": true
   },
   "source": [
    "#### Referências\n",
    "\n",
    "Aster, R., Borchers, B., Thurber, C., Parameter Estimation and Inverse Problems, Third Edition, Elsevier Academic Press, 404 pp., 2018. "
   ]
  },
  {
   "cell_type": "code",
   "execution_count": 1,
   "metadata": {
    "collapsed": true
   },
   "outputs": [],
   "source": [
    "####################################################################################################################"
   ]
  }
 ],
 "metadata": {
  "kernelspec": {
   "display_name": "Python 3",
   "language": "python",
   "name": "python3"
  },
  "language_info": {
   "codemirror_mode": {
    "name": "ipython",
    "version": 3
   },
   "file_extension": ".py",
   "mimetype": "text/x-python",
   "name": "python",
   "nbconvert_exporter": "python",
   "pygments_lexer": "ipython3",
   "version": "3.6.2"
  }
 },
 "nbformat": 4,
 "nbformat_minor": 2
}
