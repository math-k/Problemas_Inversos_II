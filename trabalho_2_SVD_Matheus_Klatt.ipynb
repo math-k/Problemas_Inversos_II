{
 "cells": [
  {
   "cell_type": "markdown",
   "metadata": {},
   "source": [
    "## Trabalho 2: SVD e solução obtida pelo uso da pseudoinversa generalizada ($G^{\\phi}$) para regressão polinomial ajustada a 3 conjuntos de dados\n",
    "### Disciplina: Problemas Inversos II\n",
    "### Professor: Raphael Vieira Menezes de Souza\n",
    "### Aluno: Matheus Klatt\n"
   ]
  },
  {
   "cell_type": "markdown",
   "metadata": {},
   "source": [
    "1) Importando os módulos que contém as funções necessárias a realização do trabalho"
   ]
  },
  {
   "cell_type": "code",
   "execution_count": 1,
   "metadata": {
    "collapsed": true
   },
   "outputs": [],
   "source": [
    "#1)\n",
    "import pandas as pd\n",
    "import numpy as np\n",
    "import matplotlib.pyplot as plt\n",
    "import sklearn\n",
    "from sklearn import metrics, linear_model, preprocessing\n",
    "import seaborn as sns\n",
    "%matplotlib inline"
   ]
  },
  {
   "cell_type": "markdown",
   "metadata": {},
   "source": [
    "2) Leitura do arquivo \"dados1.txt\", o qual contém os dados das abscissas ($x^1$) e das três formas da variável ordenada ($d$, $d + \\Delta$ e $d + \\Delta$ + outliers)"
   ]
  },
  {
   "cell_type": "code",
   "execution_count": 2,
   "metadata": {
    "collapsed": true
   },
   "outputs": [],
   "source": [
    "#2)\n",
    "# Usando a função pandas.read_csv para ler o arquivo com os dados, \"dados1.csv\".\n",
    "# O arquivo foi previamente convertido para o formato .csv.\n",
    "trab1_df=pd.read_csv(\"dados1.txt\",header=None,sep=\" \",names=[r\"$x^1$\",\"d\",\"d_delta\",\"d_delta_outliers\"])"
   ]
  },
  {
   "cell_type": "markdown",
   "metadata": {},
   "source": [
    "3) Criando as variáveis correspondentes as diferentes ordens polinomiais, $x^0$, $x^2$, $x^3$, $x^4$, $x^5$ a partir da variável $x^1$ lida do arquivo."
   ]
  },
  {
   "cell_type": "code",
   "execution_count": 3,
   "metadata": {
    "collapsed": true
   },
   "outputs": [],
   "source": [
    "#3)\n",
    "# Organizando as colunas do dataframe criado, especificamente criando as demais colunas da variável preditora X.\n",
    "# As variáveis em X são apenas polinômios de diferentes ordens [n = 0 : 5].\n",
    "# O polinômio de ordem 1, x1 foi lido do arquivo, os outros graus polinomiais são criados a partir dele.\n",
    "\n",
    "trab1_df[r\"$x^0$\"]=trab1_df[r\"$x^1$\"]*0 + 1.0\n",
    "trab1_df[r\"$x^2$\"]=trab1_df[r\"$x^1$\"]**2\n",
    "trab1_df[r\"$x^3$\"]=trab1_df[r\"$x^1$\"]**3\n",
    "trab1_df[r\"$x^4$\"]=trab1_df[r\"$x^1$\"]**4\n",
    "trab1_df[r\"$x^5$\"]=trab1_df[r\"$x^1$\"]**5"
   ]
  },
  {
   "cell_type": "markdown",
   "metadata": {},
   "source": [
    "4) Reordenando as colunas do dataframe que contém todas as variáveis do problema para uma visualização mais conveniente"
   ]
  },
  {
   "cell_type": "code",
   "execution_count": 4,
   "metadata": {
    "collapsed": true
   },
   "outputs": [],
   "source": [
    "#4)\n",
    "# Organizando as colunas de cada variável no dataframe completo, 6 variáveis preditoras, e 3 variáveis preditas\n",
    "trab1_df=trab1_df[[r\"$x^0$\",r\"$x^1$\",r\"$x^2$\",r\"$x^3$\",r\"$x^4$\",r\"$x^5$\",\"d\",\"d_delta\",\"d_delta_outliers\"]]"
   ]
  },
  {
   "cell_type": "markdown",
   "metadata": {},
   "source": [
    "5) Visualizando o dataframe que contém os dados, e verificando que foram lidos, criados e agrupados corretamente"
   ]
  },
  {
   "cell_type": "code",
   "execution_count": 5,
   "metadata": {},
   "outputs": [
    {
     "data": {
      "text/html": [
       "<div>\n",
       "<style scoped>\n",
       "    .dataframe tbody tr th:only-of-type {\n",
       "        vertical-align: middle;\n",
       "    }\n",
       "\n",
       "    .dataframe tbody tr th {\n",
       "        vertical-align: top;\n",
       "    }\n",
       "\n",
       "    .dataframe thead th {\n",
       "        text-align: right;\n",
       "    }\n",
       "</style>\n",
       "<table border=\"1\" class=\"dataframe\">\n",
       "  <thead>\n",
       "    <tr style=\"text-align: right;\">\n",
       "      <th></th>\n",
       "      <th>$x^0$</th>\n",
       "      <th>$x^1$</th>\n",
       "      <th>$x^2$</th>\n",
       "      <th>$x^3$</th>\n",
       "      <th>$x^4$</th>\n",
       "      <th>$x^5$</th>\n",
       "      <th>d</th>\n",
       "      <th>d_delta</th>\n",
       "      <th>d_delta_outliers</th>\n",
       "    </tr>\n",
       "  </thead>\n",
       "  <tbody>\n",
       "    <tr>\n",
       "      <th>0</th>\n",
       "      <td>1.0</td>\n",
       "      <td>0.0</td>\n",
       "      <td>0.00</td>\n",
       "      <td>0.000</td>\n",
       "      <td>0.0000</td>\n",
       "      <td>0.00000</td>\n",
       "      <td>1.0000</td>\n",
       "      <td>1.9400</td>\n",
       "      <td>1.9400</td>\n",
       "    </tr>\n",
       "    <tr>\n",
       "      <th>1</th>\n",
       "      <td>1.0</td>\n",
       "      <td>0.1</td>\n",
       "      <td>0.01</td>\n",
       "      <td>0.001</td>\n",
       "      <td>0.0001</td>\n",
       "      <td>0.00001</td>\n",
       "      <td>1.0500</td>\n",
       "      <td>1.6700</td>\n",
       "      <td>1.6700</td>\n",
       "    </tr>\n",
       "    <tr>\n",
       "      <th>2</th>\n",
       "      <td>1.0</td>\n",
       "      <td>0.2</td>\n",
       "      <td>0.04</td>\n",
       "      <td>0.008</td>\n",
       "      <td>0.0016</td>\n",
       "      <td>0.00032</td>\n",
       "      <td>1.1603</td>\n",
       "      <td>0.3803</td>\n",
       "      <td>0.3803</td>\n",
       "    </tr>\n",
       "    <tr>\n",
       "      <th>3</th>\n",
       "      <td>1.0</td>\n",
       "      <td>0.3</td>\n",
       "      <td>0.09</td>\n",
       "      <td>0.027</td>\n",
       "      <td>0.0081</td>\n",
       "      <td>0.00243</td>\n",
       "      <td>1.3311</td>\n",
       "      <td>2.1711</td>\n",
       "      <td>2.1711</td>\n",
       "    </tr>\n",
       "    <tr>\n",
       "      <th>4</th>\n",
       "      <td>1.0</td>\n",
       "      <td>0.4</td>\n",
       "      <td>0.16</td>\n",
       "      <td>0.064</td>\n",
       "      <td>0.0256</td>\n",
       "      <td>0.01024</td>\n",
       "      <td>1.5626</td>\n",
       "      <td>1.6026</td>\n",
       "      <td>1.6026</td>\n",
       "    </tr>\n",
       "    <tr>\n",
       "      <th>...</th>\n",
       "      <td>...</td>\n",
       "      <td>...</td>\n",
       "      <td>...</td>\n",
       "      <td>...</td>\n",
       "      <td>...</td>\n",
       "      <td>...</td>\n",
       "      <td>...</td>\n",
       "      <td>...</td>\n",
       "      <td>...</td>\n",
       "    </tr>\n",
       "    <tr>\n",
       "      <th>95</th>\n",
       "      <td>1.0</td>\n",
       "      <td>9.5</td>\n",
       "      <td>90.25</td>\n",
       "      <td>857.375</td>\n",
       "      <td>8145.0625</td>\n",
       "      <td>77378.09375</td>\n",
       "      <td>307.9450</td>\n",
       "      <td>308.2350</td>\n",
       "      <td>308.2350</td>\n",
       "    </tr>\n",
       "    <tr>\n",
       "      <th>96</th>\n",
       "      <td>1.0</td>\n",
       "      <td>9.6</td>\n",
       "      <td>92.16</td>\n",
       "      <td>884.736</td>\n",
       "      <td>8493.4656</td>\n",
       "      <td>81537.26976</td>\n",
       "      <td>314.7894</td>\n",
       "      <td>314.3294</td>\n",
       "      <td>300.0000</td>\n",
       "    </tr>\n",
       "    <tr>\n",
       "      <th>97</th>\n",
       "      <td>1.0</td>\n",
       "      <td>9.7</td>\n",
       "      <td>94.09</td>\n",
       "      <td>912.673</td>\n",
       "      <td>8852.9281</td>\n",
       "      <td>85873.40257</td>\n",
       "      <td>321.7169</td>\n",
       "      <td>321.0069</td>\n",
       "      <td>321.0069</td>\n",
       "    </tr>\n",
       "    <tr>\n",
       "      <th>98</th>\n",
       "      <td>1.0</td>\n",
       "      <td>9.8</td>\n",
       "      <td>96.04</td>\n",
       "      <td>941.192</td>\n",
       "      <td>9223.6816</td>\n",
       "      <td>90392.07968</td>\n",
       "      <td>328.7277</td>\n",
       "      <td>327.8577</td>\n",
       "      <td>327.8577</td>\n",
       "    </tr>\n",
       "    <tr>\n",
       "      <th>99</th>\n",
       "      <td>1.0</td>\n",
       "      <td>9.9</td>\n",
       "      <td>98.01</td>\n",
       "      <td>970.299</td>\n",
       "      <td>9605.9601</td>\n",
       "      <td>95099.00499</td>\n",
       "      <td>335.8220</td>\n",
       "      <td>336.6420</td>\n",
       "      <td>300.0000</td>\n",
       "    </tr>\n",
       "  </tbody>\n",
       "</table>\n",
       "<p>100 rows × 9 columns</p>\n",
       "</div>"
      ],
      "text/plain": [
       "    $x^0$  $x^1$  $x^2$    $x^3$      $x^4$        $x^5$         d   d_delta  \\\n",
       "0     1.0    0.0   0.00    0.000     0.0000      0.00000    1.0000    1.9400   \n",
       "1     1.0    0.1   0.01    0.001     0.0001      0.00001    1.0500    1.6700   \n",
       "2     1.0    0.2   0.04    0.008     0.0016      0.00032    1.1603    0.3803   \n",
       "3     1.0    0.3   0.09    0.027     0.0081      0.00243    1.3311    2.1711   \n",
       "4     1.0    0.4   0.16    0.064     0.0256      0.01024    1.5626    1.6026   \n",
       "..    ...    ...    ...      ...        ...          ...       ...       ...   \n",
       "95    1.0    9.5  90.25  857.375  8145.0625  77378.09375  307.9450  308.2350   \n",
       "96    1.0    9.6  92.16  884.736  8493.4656  81537.26976  314.7894  314.3294   \n",
       "97    1.0    9.7  94.09  912.673  8852.9281  85873.40257  321.7169  321.0069   \n",
       "98    1.0    9.8  96.04  941.192  9223.6816  90392.07968  328.7277  327.8577   \n",
       "99    1.0    9.9  98.01  970.299  9605.9601  95099.00499  335.8220  336.6420   \n",
       "\n",
       "    d_delta_outliers  \n",
       "0             1.9400  \n",
       "1             1.6700  \n",
       "2             0.3803  \n",
       "3             2.1711  \n",
       "4             1.6026  \n",
       "..               ...  \n",
       "95          308.2350  \n",
       "96          300.0000  \n",
       "97          321.0069  \n",
       "98          327.8577  \n",
       "99          300.0000  \n",
       "\n",
       "[100 rows x 9 columns]"
      ]
     },
     "execution_count": 5,
     "metadata": {},
     "output_type": "execute_result"
    }
   ],
   "source": [
    "#5)\n",
    "# Vericando que os dados foram lidos e criados corretamente\n",
    "trab1_df"
   ]
  },
  {
   "cell_type": "markdown",
   "metadata": {},
   "source": [
    "6) Montagem do problema na forma matricial: $\\mathbf{d} = \\mathbf{G}\\mathbf{m}$. Nesta forma o vetor $\\mathbf{d}$ guarda a variável ordenada/predita dependente, a matriz $\\mathbf{G}$ contém as variáveis independentes/preditores e o vetor $\\mathbf{m}$ corresponde aos coeficientes/parametros que se deseja obter pela solução do problema inverso.\n",
    "\n",
    "$\\begin{equation}\n",
    "\\mathbf{d}_{100 x 1} = \\mathbf{G}_{100 x 6} \\cdot \\mathbf{m}_{6 x 1} = \n",
    "\\begin{bmatrix}\n",
    "1.0\\\\\n",
    "\\vdots\\\\\n",
    "335.8220\n",
    "\\end{bmatrix}\n",
    "=\n",
    "\\begin{bmatrix}\n",
    "1.0 & 0.0 & 0.0 & 0.0 & 0.0 & 0.0\\\\\n",
    "\\vdots & \\vdots & \\vdots & \\vdots & \\vdots & \\vdots\\\\\n",
    "1.0 & 9.9 & 98.01 & 970.299 & 9605.9601 & 95099.00499\\\\\n",
    "\\end{bmatrix}\n",
    "\\cdot\n",
    "\\begin{bmatrix}\n",
    "m_{0}\\\\\n",
    "\\vdots\\\\\n",
    "m_{6}\\\\\n",
    "\\end{bmatrix}\n",
    "\\end{equation}$\n"
   ]
  },
  {
   "cell_type": "code",
   "execution_count": 6,
   "metadata": {},
   "outputs": [
    {
     "name": "stdout",
     "output_type": "stream",
     "text": [
      "Shape G:  (100, 6) Shape d:  (100, 1) Shape d_delta:  (100, 1) Shape d_delta_outliers:  (100, 1) Shape d_all:  (100, 3)\n"
     ]
    }
   ],
   "source": [
    "#6)\n",
    "# Montando o sistema na forma d = G m\n",
    "G=trab1_df[[r\"$x^0$\",r\"$x^1$\",r\"$x^2$\",r\"$x^3$\",r\"$x^4$\",r\"$x^5$\"]].to_numpy()\n",
    "d=trab1_df[\"d\"].to_numpy().reshape((-1,1))\n",
    "d_delta=trab1_df[\"d_delta\"].to_numpy().reshape((-1,1))\n",
    "d_delta_outliers=trab1_df[\"d_delta_outliers\"].to_numpy().reshape((-1,1))\n",
    "d_all=np.hstack((d,d_delta,d_delta_outliers))\n",
    "# Exibindo formato das matrizes criadas para garantir que as dimensões estão corretas\n",
    "print(\"Shape G: \",G.shape,\"Shape d: \",d.shape,\"Shape d_delta: \",d_delta.shape,\n",
    "      \"Shape d_delta_outliers: \",d_delta_outliers.shape, \"Shape d_all: \",d_all.shape)"
   ]
  },
  {
   "cell_type": "markdown",
   "metadata": {},
   "source": [
    "7) O fato das colunas da matriz  serem $\\textbf{linearmente independentes}$ permite que $\\mathbf{G}$ tenha inversa e consequentemente uma solução pode ser obtida pela aplicação das equações normais:\n",
    "\n",
    "$\\begin{equation}\n",
    "\\mathbf{m} = (\\mathbf{G}^{T}\\mathbf{G})^{-1}\\mathbf{G}^T\\mathbf{d}\n",
    "\\end{equation}$\n",
    "\n",
    "A álgebra matricial permite resolver este sistema uma única vez para os 3 conjuntos de dados diferentes, $\\mathbf{d}$, $\\mathbf{d} + \\Delta$ e $\\mathbf{d} + \\Delta$ + $outliers$, agrupando-os como colunas de uma única matriz $\\mathbf{D}$. Neste caso serão obtidos os parâmetros referentes aos três diferentes modelos em cada uma das colunas da matriz $\\mathbf{M}$. A expressão para as equações normais toma então a seguinte forma\n",
    "\n",
    "$\\begin{equation}\n",
    "\\mathbf{M}_{6 x 3} = (\\mathbf{G}^{T}_{6 x 100}\\mathbf{G}_{100 x 6})^{-1}\\mathbf{G}^T_{6 x 100}\\mathbf{D}_{100 x 3}\n",
    "\\end{equation}$"
   ]
  },
  {
   "cell_type": "code",
   "execution_count": 7,
   "metadata": {
    "collapsed": true
   },
   "outputs": [],
   "source": [
    "#7)\n",
    "# Resolvendo o sistema na forma m = (G.T G)-1 G.T d, (norma L2)\n",
    "# Primeiro calculando a inversa de G.T G\n",
    "inv_G=np.linalg.inv(np.matmul(G.T,G))\n",
    "# Calculando G.T d\n",
    "GTd=np.matmul(G.T,d_all)\n",
    "# multiplicando (G.T G)-1 e G.T d para obter m\n",
    "m=np.matmul(inv_G,GTd)\n",
    "#colocando m na forma de vetor coluna\n",
    "m=m.reshape((len(m),3))"
   ]
  },
  {
   "cell_type": "markdown",
   "metadata": {},
   "source": [
    "8) Uma das maneiras de se resolver sistemas lineares deficientes de posto é utilizando a decomposição em valores singulares ($\\textit{singular value decomposition}$), ou SVD. A SVD fatora a matriz $\\mathbf{G}$ em:\n",
    "\n",
    "$\\begin{equation}\n",
    "\\mathbf{G} = \\mathbf{U}\\mathbf{S}\\mathbf{V}^T\n",
    "\\end{equation}$\n",
    "\n",
    "Onde $\\mathbf{U}$ é uma matriz $\\textit{m}$ x $\\textit{m}$ ortogonal na qual as colunas são vetores unitários de base que compreendem o espaço de dados, $\\mathit{{R^{m}}}$. $\\mathbf{V}$ é uma matriz $\\textit{n}$ x $\\textit{n}$ ortogonal na qual as colunas são vetores unitários de base que compreendem o espaço do modelo, $\\mathit{{R^n}}$. $\\mathbf{S}$ é uma matriz $\\textit{m}$ x $\\textit{n}$ diagonal com elementos diagonais chamados valores singulares. \n",
    "\n",
    "É possível escrever a SVD em forma reduzida com as matrizes $\\mathbf{U}_{p}$, $\\textit{m}$ x $\\textit{p}$, $\\mathbf{V}_{p}$, $\\textit{n}$ x $\\textit{p}$, e $\\mathbf{S}_{p}$, $\\textit{p}$ x $\\textit{p}$,onde $\\textit{p}$ corresponde aos valores singulares não nulos de $\\mathbf{G}$. Desta forma a decomposição em sua forma compacta é expressa como:\n",
    "\n",
    "$\\begin{equation}\n",
    "\\mathbf{G} = \\mathbf{U}_{p}\\mathbf{S}_{p}{\\mathbf{V}_{p}}^T\n",
    "\\end{equation}$"
   ]
  },
  {
   "cell_type": "code",
   "execution_count": 8,
   "metadata": {},
   "outputs": [
    {
     "name": "stdout",
     "output_type": "stream",
     "text": [
      "G = U*S*V.T,  True\n"
     ]
    }
   ],
   "source": [
    "#8) Realizando decomposicao em valores singulares de G em USV, G=U*S*(V.T), onde S e o vetor que guarda os valores \n",
    "# singulares de interesse para o trabalho\n",
    "# referencia para uso da função numpy.linalg.svd : \n",
    "# https://numpy.org/doc/stable/reference/generated/numpy.linalg.svd.html\n",
    "\n",
    "U,S,V_t=np.linalg.svd(G)\n",
    "\n",
    "# Verificando que G = U*S*V_t\n",
    "p_S=np.eye(len(S))*S\n",
    "G_r=np.matmul(np.matmul(U[:,:len(S)],p_S),V_t)\n",
    "print(\"G = U*S*V.T, \",np.allclose(np.matmul(np.matmul(U[:,:len(S)],p_S),V_t),G))"
   ]
  },
  {
   "cell_type": "markdown",
   "metadata": {},
   "source": [
    "9) Os valores da matriz diagonal $\\mathbf{S}$ são tipicamente organizados em ordem decrescente"
   ]
  },
  {
   "cell_type": "code",
   "execution_count": 9,
   "metadata": {},
   "outputs": [
    {
     "name": "stdout",
     "output_type": "stream",
     "text": [
      "[2.95054230e+05 3.34216585e+03 1.10948782e+02 1.01389511e+01\n",
      " 2.97678138e+00 6.97917294e-01]\n"
     ]
    },
    {
     "data": {
      "image/png": "[encoded data removed]",
      "text/plain": [
       "<Figure size 432x288 with 2 Axes>"
      ]
     },
     "metadata": {},
     "output_type": "display_data"
    }
   ],
   "source": [
    "#9) Visualizando a matriz diagonal S que guarda os valores singulares de G\n",
    "sns.heatmap(p_S,annot=True)\n",
    "# Imprimindo os valores singulares guardados em S\n",
    "print(S)"
   ]
  },
  {
   "cell_type": "markdown",
   "metadata": {},
   "source": [
    "10) Um dos benefícios de se representar $\\mathbf{G}$ por sua SVD é o fato da matriz inversa da forma fatorada $\\mathbf{U}\\mathbf{S}\\mathbf{V}^T$ sempre existir. Esta matriz é chamada de inversa generalizada de $\\mathbf{G}$, ou pseudoinversa de $\\textit{Moore-Penrose}$. A pseudouinversa $\\mathbf{G}^{\\phi}$ pode ser escrita como:\n",
    "\n",
    "$\\begin{equation}\n",
    "\\mathbf{G}^{\\phi} = \\mathbf{V}_{p}{\\mathbf{S}_{p}}^{-1}{\\mathbf{U}_{p}}^T\n",
    "\\end{equation}$\n",
    "\n",
    "$\\mathbf{G}^{\\phi}$ pode ser usada para se obter uma solução $\\mathbf{m}^{\\phi}$ fazendo-se simplesmente:\n",
    "\n",
    "$\\begin{equation}\n",
    "\\mathbf{m}^{\\phi} = \\mathbf{G}^{\\phi}\\mathbf{d}\n",
    "\\end{equation}$\n",
    "\n",
    "Pode-se mostrar ainda que a solução $\\mathbf{m}^{\\phi}$ é equivalente a solução de mínimos quadrados, i.e., a obtida pelo uso das equações normais/minimização da norma L2 como feito em #7."
   ]
  },
  {
   "cell_type": "code",
   "execution_count": 10,
   "metadata": {
    "collapsed": true
   },
   "outputs": [],
   "source": [
    "#10) Calculo da pseudo inversa de G. A funcao numpy.linalg.pinv computa a pseudoinversa utilizando as matrizes U,S,V.T\n",
    "# obtidas da SVD de G. A funcao recebe como argumentos a matriz para qual se deseja calcular a pseudoinversa, \n",
    "# no caso G, e um numero de condicao 'rcond', o qual determina \n",
    "# o limite abaixo do qual os valores singulares de S sao truncados.\n",
    "# O valor padrao desse argumento eh 'S.max()*1e-15', ou seja,praticamente 0.0, \n",
    "# o que significa que nao ha truncamento.\n",
    "# Para ter maior controle sobre os termos de S a serem truncados basta tomar rcond = (1/S.max())*S[i],\n",
    "# onde i corresponde ao valor singular a partir do qual desejamos fazer o truncamento, e.g.,\n",
    "# no trabalho G possui 6 valores singulares, portanto,\n",
    "# rcond = (1/S.max())*S[4], corresponde ao truncamento dos dois menores valores de S. \n",
    "#Para obter a pseudoinversa sem truncar nenhum dos valores singulares basta tomar rcond=(1/np.max(S))*0.0.\n",
    "G_pinv=np.linalg.pinv(G,rcond=((1/np.max(S))*0.0))\n",
    "G_pinv_trunc=np.linalg.pinv(G,rcond=((1/np.max(S))*S[-1]))\n",
    "\n",
    "# Calculando a solucao, m° utilizando a pseudo inversa de G, G°. m° = G°*d \n",
    "m_pinv=np.matmul(G_pinv,d_all)\n",
    "m_pinv_trunc=np.matmul(G_pinv_trunc,d_all)"
   ]
  },
  {
   "cell_type": "code",
   "execution_count": 35,
   "metadata": {},
   "outputs": [
    {
     "name": "stdout",
     "output_type": "stream",
     "text": [
      "Solução obtida pelo uso da pseudoinversa de G: \n",
      " [[ 9.99989989e-01  1.67161923e+00  3.26895640e+00]\n",
      " [ 2.00020855e-01 -1.38503247e+00 -7.55755215e+00]\n",
      " [ 2.99998706e+00  3.95127071e+00  9.65135461e+00]\n",
      " [ 4.00033269e-02 -1.82394686e-01 -2.06532350e+00]\n",
      " [-3.74502717e-07  2.24606681e-02  2.71486093e-01]\n",
      " [ 1.52740395e-08 -8.23143358e-04 -1.21499810e-02]] \n",
      "\n",
      "Diferença absoluta entre solução obtida pelas equações normais e solução pela pseudoinversa: \n",
      " [[0. 0. 0.]\n",
      " [0. 0. 0.]\n",
      " [0. 0. 0.]\n",
      " [0. 0. 0.]\n",
      " [0. 0. 0.]\n",
      " [0. 0. 0.]] \n",
      "\n"
     ]
    }
   ],
   "source": [
    "#11) Visualizando a solucao obtida pela pseudoinversa \n",
    "\n",
    "print(\"Solução obtida pelo uso da pseudoinversa de G: \\n\", m_pinv,\"\\n\")\n",
    "# Repare que a solucao eh a mesma que a obtida pelas equacoes normais\n",
    "print(\"Diferença absoluta entre solução obtida pelas equações normais e solução pela pseudoinversa: \\n\", \n",
    "      np.round(abs(m-m_pinv),3),\"\\n\")"
   ]
  },
  {
   "cell_type": "code",
   "execution_count": 37,
   "metadata": {},
   "outputs": [
    {
     "name": "stdout",
     "output_type": "stream",
     "text": [
      "Solução obtida pelo uso da pseudoinversa de G com menor valor singular truncado: \n",
      " [[ 4.62944974e-01  4.85383399e-01 -6.98099983e-01]\n",
      " [ 1.50628266e+00  1.50026488e+00  2.09157236e+00]\n",
      " [ 2.19571365e+00  2.17477544e+00  3.71032946e+00]\n",
      " [ 2.36667541e-01  2.52001187e-01 -6.12599796e-01]\n",
      " [-2.07899993e-02 -2.34598734e-02  1.17916818e-01]\n",
      " [ 7.93777681e-04  9.30135015e-04 -6.28659871e-03]] \n",
      "\n",
      "Diferença absoluta entre solução obtida pelas equações normais e solução pela pseudoinversa: \n",
      " [[5.370e-01 1.186e+00 3.967e+00]\n",
      " [1.306e+00 2.885e+00 9.649e+00]\n",
      " [8.040e-01 1.776e+00 5.941e+00]\n",
      " [1.970e-01 4.340e-01 1.453e+00]\n",
      " [2.100e-02 4.600e-02 1.540e-01]\n",
      " [1.000e-03 2.000e-03 6.000e-03]] \n",
      "\n"
     ]
    }
   ],
   "source": [
    "#12) Visualizando a solucao obtida pela pseudoinversa com truncamento do menor valor singular de G \n",
    "print(\"Solução obtida pelo uso da pseudoinversa de G com menor valor singular truncado: \\n\", m_pinv_trunc,\"\\n\")\n",
    "# Neste caso a soluçao pela pseudoinversa e pelas equações normais não são equivalentes\n",
    "print(\"Diferença absoluta entre solução obtida pelas equações normais e solução pela pseudoinversa: \\n\", \n",
    "      np.round(abs(m-m_pinv_trunc),3),\"\\n\")"
   ]
  },
  {
   "cell_type": "markdown",
   "metadata": {},
   "source": [
    "13) É possível avaliar o nível de $\\textit{bias}$ na solução obtida pela pseudoinversa $\\mathbf{G}^{\\phi}$ pela construção da matriz de resolução do modelo $\\mathbf{R}_{m}$. A matriz $\\mathbf{R}_{m}$ caracteriza a relação linear entre a solução $\\mathbf{m}^{\\phi}$, e o modelo real $\\mathbf{m}_{real}$. O traço de $\\mathbf{R}_{m}$, fornece uma primeira medida quantitativa da resolução, de maneira geral quanto mais próximo de $\\textit{n}$ for $Tr(\\mathbf{R}_{m})$, mais próximo $\\mathbf{R}_{m}$ é da matriz identidade e maior a resolução do modelo $\\mathbf{m}^{\\phi}$.\n",
    "\n",
    "Na prática $\\mathbf{R}_{m}$ é utilizada examinando os elementos da diagonal principal. Elementos da diagonal principal com valor próximo a 1 correspondem a parâmetros do modelo que foram bem resolvidos, enquanto valores pequenos correspondem a parâmetros que não foram bem resolvidos pelo modelo obtido através do uso da pseudoinversa $\\mathbf{G}^{\\phi}$.\n",
    "\n"
   ]
  },
  {
   "cell_type": "code",
   "execution_count": 13,
   "metadata": {},
   "outputs": [
    {
     "name": "stdout",
     "output_type": "stream",
     "text": [
      "Numero de variaveis : 6\n",
      "Traco de R_m:  6.000000000000652\n"
     ]
    },
    {
     "data": {
      "text/plain": [
       "<AxesSubplot:>"
      ]
     },
     "execution_count": 13,
     "metadata": {},
     "output_type": "execute_result"
    },
    {
     "data": {
      "image/png": "[encoded data removed]",
      "text/plain": [
       "<Figure size 432x288 with 2 Axes>"
      ]
     },
     "metadata": {},
     "output_type": "display_data"
    }
   ],
   "source": [
    "#13) A matriz de resolucao do modelo pode ser calculada pela expressao R_m = G°*G. A matriz eh um indicativo de quao\n",
    "# proximo o modelo obtido pela pseudo inversa esta do modelo real, quanto mais proximo R_m estiver da matriz identidade, I, \n",
    "# maior eh a resolucao do modelo obtido pela pseudoinversa, e quando R_m = I, diz-se que a resolucao e perfeita.\n",
    "resolution_m_pinv=np.matmul(G_pinv,G)\n",
    "\n",
    "# Outra maneira de quantificar a qualidade do modelo m° obtido e calculando o traco da matriz R_m, Tr(R_m),\n",
    "# quanto mais proximo Tr(R_m) for de n (numero de variaveis do problema, no caso, 6)\n",
    "print(\"Numero de variaveis :\",len(G[0,:]))\n",
    "print(\"Traco de R_m: \", np.trace(resolution_m_pinv))\n",
    "sns.heatmap(resolution_m_pinv,annot=True)\n",
    "\n"
   ]
  },
  {
   "cell_type": "markdown",
   "metadata": {},
   "source": [
    "14) Quando se analisa a qualidade da solução $\\mathbf{m}^{\\phi}$ é útil avaliar também a distribuição das magnitudes dos valores singulares de $\\mathbf{S}_{p}$. A manutenção de valores singulares pequenos no cálculo da solução pela pseudoinversa generalizada pode tornar $\\mathbf{m}^{\\phi}$ sensível a presença de ruído nos dados.\n",
    "\n",
    "Uma das maneiras de reduzir a sensibilidade da solução a presença de ruídos é através do truncamento dos valores singulares com valor relativamente baixo. Para isso, basta zerar os valores singulares $s_{i}$, onde $i = [1,p]$ que satisfaçam o critério:\n",
    "\n",
    "$\\begin{equation}\n",
    "s_{i} = 0.0 \\text{ , para } i \\gt k \\text{ , onde } k = [1,p]\n",
    "\\end{equation}$\n",
    "\n",
    ", e.g., se $p = 6$, para $k = 5$, faz-se $s_{6} = 0.0$, já que $i = 6 \\gt 5 = k$. Neste caso diz-se então que a série de valores singulares de $\\mathbf{S}_{p}$ foi truncada no último valor.\n",
    "\n",
    "Nota: Uma matriz $\\mathbf{S}$, $\\textit{m}$ x $\\textit{n}$, guarda todos os valores singulares em sua diagonal principal. Como a matriz contém apenas $min(m,n)$ elementos em sua diagonal principal, existem então $min(m,n)$ valores singulares. Neste trabalho $m = 100 \\gt n = p = 6$, o que ocasiona que $\\mathbf{S}$ e sua forma compacta $\\mathbf{S}_{p}$ tenham o mesmo número de valores singulares, $p = 6$."
   ]
  },
  {
   "cell_type": "code",
   "execution_count": 14,
   "metadata": {},
   "outputs": [
    {
     "name": "stdout",
     "output_type": "stream",
     "text": [
      "Numero de variaveis : 6\n",
      "Traco de R_m:  4.999999999998884\n"
     ]
    },
    {
     "data": {
      "text/plain": [
       "<AxesSubplot:>"
      ]
     },
     "execution_count": 14,
     "metadata": {},
     "output_type": "execute_result"
    },
    {
     "data": {
      "image/png": "[encoded data removed]",
      "text/plain": [
       "<Figure size 432x288 with 2 Axes>"
      ]
     },
     "metadata": {},
     "output_type": "display_data"
    }
   ],
   "source": [
    "#14) A matriz de resolucao do modelo pode ser calculada pela expressao R_m = G°*G. A matriz eh um indicativo de quao\n",
    "# proximo o modelo obtido pela pseudo inversa esta do modelo real, quanto mais proximo R_m estiver da matriz identidade, I, \n",
    "# maior eh a resolucao do modelo obtido pela pseudoinversa, e quando R_m = I, diz-se que a resolucao e perfeita.\n",
    "resolution_m_pinv_trunc=np.matmul(G_pinv_trunc,G)\n",
    "\n",
    "# Outra maneira de quantificar a qualidade do modelo m° obtido e calculando o traco da matriz R_m, Tr(R_m),\n",
    "# quanto mais proximo Tr(R_m) for de n (numero de variaveis do problema, no caso, 6)\n",
    "print(\"Numero de variaveis :\",len(G[0,:]))\n",
    "print(\"Traco de R_m: \", np.trace(resolution_m_pinv_trunc))\n",
    "sns.heatmap(resolution_m_pinv_trunc,annot=True)\n",
    "\n"
   ]
  },
  {
   "cell_type": "code",
   "execution_count": 15,
   "metadata": {},
   "outputs": [
    {
     "data": {
      "text/plain": [
       "array([[ 4.62944974e-01,  4.85383399e-01, -6.98099983e-01],\n",
       "       [ 1.50628266e+00,  1.50026488e+00,  2.09157236e+00],\n",
       "       [ 2.19571365e+00,  2.17477544e+00,  3.71032946e+00],\n",
       "       [ 2.36667541e-01,  2.52001187e-01, -6.12599796e-01],\n",
       "       [-2.07899993e-02, -2.34598734e-02,  1.17916818e-01],\n",
       "       [ 7.93777681e-04,  9.30135015e-04, -6.28659871e-03]])"
      ]
     },
     "execution_count": 15,
     "metadata": {},
     "output_type": "execute_result"
    }
   ],
   "source": [
    "m_pinv_trunc"
   ]
  },
  {
   "cell_type": "markdown",
   "metadata": {},
   "source": [
    "15) Se possível, uma das formas de se quantificar a qualidade da solução $\\mathbf{m}^{\\phi}$ é comparando-a com o modelo real $\\mathbf{m}_{real}$ caso ele seja conhecido.\n",
    "\n",
    "Para este trabalho sabe-se que os dados foram gerados utilizando o polinômio:\n",
    "\n",
    "$\\begin{equation}\n",
    "p(x) = 1 + 0.2x + 3x^2 + 0.04x^3\n",
    "\\end{equation}$.\n",
    "\n",
    "Portanto, $\\mathbf{m}_{real}$ pode ser escrito como:\n",
    "\n",
    "$\\begin{equation}\n",
    "\\mathbf{m}_{real}\n",
    "=\n",
    "{\\begin{bmatrix}\n",
    "1.0\\\\\n",
    "0.2\\\\\n",
    "3.0\\\\\n",
    "0.04\\\\\n",
    "0.0\\\\\n",
    "0.0\\\\\n",
    "\\end{bmatrix}}_{6 x 1}\n",
    "\\end{equation}$.\n",
    "\n",
    "E um erro absoluto da solução $\\mathbf{m}^{\\phi}$ pode ser calculado fazendo\n",
    "\n",
    "$\\begin{equation}\n",
    "\\epsilon = \\lvert\\mathbf{m}^{\\phi} - \\mathbf{m}_{real}\\rvert\n",
    "\\end{equation}$.\n",
    "\n",
    "Nota: neste trabalho os modelos obtidos para os diferentes conjuntos de dados $d$, $d + \\Delta$ e $d + \\Delta$ + outliers, detalhados em  $\\textbf{2)}$, foram agrupados em uma única matriz $\\mathbf{M}^{\\phi}$, na qual cada uma das três colunas corresponde respectivamente a cada um dos conjuntos de dados previamente citados."
   ]
  },
  {
   "cell_type": "code",
   "execution_count": 16,
   "metadata": {},
   "outputs": [
    {
     "name": "stdout",
     "output_type": "stream",
     "text": [
      "Modelo real: \n",
      " [[1.   1.   1.  ]\n",
      " [0.2  0.2  0.2 ]\n",
      " [3.   3.   3.  ]\n",
      " [0.04 0.04 0.04]\n",
      " [0.   0.   0.  ]\n",
      " [0.   0.   0.  ]] \n",
      "\n",
      "|m-m_real|: \n",
      " [[0.   0.67 2.27]\n",
      " [0.   1.59 7.76]\n",
      " [0.   0.95 6.65]\n",
      " [0.   0.22 2.11]\n",
      " [0.   0.02 0.27]\n",
      " [0.   0.   0.01]] \n",
      "\n",
      "|m°-m_real|: \n",
      " [[0.   0.67 2.27]\n",
      " [0.   1.59 7.76]\n",
      " [0.   0.95 6.65]\n",
      " [0.   0.22 2.11]\n",
      " [0.   0.02 0.27]\n",
      " [0.   0.   0.01]] \n",
      "\n"
     ]
    }
   ],
   "source": [
    "#15) Calculando diferença absoluta entre parâmetros do modelo real e modelo obtido pelo uso da pseudoinversa de G:\n",
    "m_real=np.array([[1,0.2,3.,0.04,0.,0.],[1,0.2,3.,0.04,0.,0.],[1,0.2,3.,0.04,0.,0.]]).T\n",
    "print(\"Modelo real: \\n\",m_real,\"\\n\")\n",
    "\n",
    "# Basta entao calcular a diferenca absoluta entre cada um dos modelos obtidos, m (pelas equacoes normais)\n",
    "# e m° (pela pseudo inversa de G, G°),e o modelo real m_real\n",
    "print(\"|m-m_real|: \\n\",abs(np.round(m-m_real,2)),\"\\n\")\n",
    "print(\"|m°-m_real|: \\n\",abs(np.round(m_pinv-m_real,2)),\"\\n\")"
   ]
  },
  {
   "cell_type": "code",
   "execution_count": 17,
   "metadata": {},
   "outputs": [
    {
     "name": "stdout",
     "output_type": "stream",
     "text": [
      "Modelo real: \n",
      " [[1.   1.   1.  ]\n",
      " [0.2  0.2  0.2 ]\n",
      " [3.   3.   3.  ]\n",
      " [0.04 0.04 0.04]\n",
      " [0.   0.   0.  ]\n",
      " [0.   0.   0.  ]] \n",
      "\n",
      "|m-m_real|: \n",
      " [[0.   0.67 2.27]\n",
      " [0.   1.59 7.76]\n",
      " [0.   0.95 6.65]\n",
      " [0.   0.22 2.11]\n",
      " [0.   0.02 0.27]\n",
      " [0.   0.   0.01]] \n",
      "\n",
      "|m°_truncado-m_real|: \n",
      " [[0.54 0.51 1.7 ]\n",
      " [1.31 1.3  1.89]\n",
      " [0.8  0.83 0.71]\n",
      " [0.2  0.21 0.65]\n",
      " [0.02 0.02 0.12]\n",
      " [0.   0.   0.01]] \n",
      "\n"
     ]
    }
   ],
   "source": [
    "#16) Calculando diferença absoluta entre parâmetros do modelo real e modelo obtido pelo uso da pseudoinversa de G\n",
    "# com último valor singular truncado:\n",
    "\n",
    "m_real=np.array([[1,0.2,3.,0.04,0.,0.],[1,0.2,3.,0.04,0.,0.],[1,0.2,3.,0.04,0.,0.]]).T\n",
    "print(\"Modelo real: \\n\",m_real,\"\\n\")\n",
    "\n",
    "# Basta entao calcular a diferenca absoluta entre cada um dos modelos obtidos, m (pelas equacoes normais)\n",
    "# e m° (pela pseudo inversa de G, G°),e o modelo real m_real\n",
    "print(\"|m-m_real|: \\n\",abs(np.round(m-m_real,2)),\"\\n\")\n",
    "print(\"|m°_truncado-m_real|: \\n\",abs(np.round(m_pinv_trunc-m_real,2)),\"\\n\")"
   ]
  },
  {
   "cell_type": "markdown",
   "metadata": {},
   "source": [
    "17) Similarmente a abordagem do trabalho 1, pode-se usar os modelos obtidos por $\\mathbf{G}^{\\phi}$, e $\\mathbf{G}^{\\phi}$ truncada como modelo inicial para o algoritmo iterativo $\\textit{IRLS}$ para a encontrar uma solução que minimiza a norma L1."
   ]
  },
  {
   "cell_type": "code",
   "execution_count": 18,
   "metadata": {
    "collapsed": true
   },
   "outputs": [],
   "source": [
    "#17) Função que recebe os elementos G, d, um modelo inicial m, \n",
    "# e calcula a solução pela minimização da norma L1 utilizando o algoritmo IRLS.\n",
    "# A função também aceita como argumentos opcionais o número máximo de iterações a serem realizadas (max_iterations),\n",
    "# e o critério de tolerância a ser atingido para que o se considere a convergência do método (tol).\n",
    "def L1Solution(G,d_all,m,max_iterations=1000,tol=0.001):\n",
    "\n",
    "    m_L1_all=np.zeros((len(m),len(m[0,:])))\n",
    "    m_=np.copy(m)\n",
    "\n",
    "    for j in range (0,len(m[0,:])):\n",
    "        # Definição dos critérios de parada do algoritmo, tolerância (tol) e número máximo de iterações (max_iterations)\n",
    "        mk=m_[:,j].reshape((-1,1))\n",
    "        d_=d_all[:,j].reshape((-1,1))\n",
    "        current_iteration=0\n",
    "        # Tolerância inicial que garante que o laço seja executado ao menos uma vez\n",
    "        t=999.999\n",
    "\n",
    "        # Calculo do vetor de residuo inicial (r0) utilizando o modelo inicial m0, solução da norma L2\n",
    "        r0=d_-np.matmul(G,mk)\n",
    "        # Criação da matriz diagonal R0\n",
    "        R_0=np.eye(len(r0[:,0]))*1/r0\n",
    "        # Atribuição do modelo inicial, m0, a variável (mk) que será iterativamente atualizada no laço\n",
    "\n",
    "        # Atribuição do da matriz de pesos inicial, R0, a variável (R) que será iterativamente atualizada no laço\n",
    "        R=R_0\n",
    "\n",
    "        # Laço de resolução iterativa de: G.T R G (mk) = G.T R d\n",
    "        while (t >= tol):\n",
    "            # Contador de iterações\n",
    "            current_iteration=current_iteration+1\n",
    "            # Verifica se número máximo de iterações foi atingido\n",
    "            if (current_iteration == max_iterations):\n",
    "                print(\"Reached max number of iterations: {}\".format(max_iterations))\n",
    "                break\n",
    "\n",
    "            #Início da resolução de G.T R G (mk) = G.T R d:\n",
    "            # Lado esquerdo da igualdade\n",
    "            # Calculo de G.T R\n",
    "            GT_R_arr=np.matmul(G.T,R)\n",
    "            # Calculo de G.T R G\n",
    "            GT_R_G_arr=np.matmul(GT_R_arr,G) \n",
    "\n",
    "            # Lado direito da igualdade\n",
    "            # Calculo de G.T R d\n",
    "            GT_R_d_arr=np.matmul(GT_R_arr,d_)\n",
    "            # passando G.T R G para o lado direito da igualdade, tal que: (mk) = (G.T R G)-1 G.T R d\n",
    "            # Calculo de (G.T R G)-1\n",
    "            GT_R_G_inv_arr=np.linalg.inv(GT_R_G_arr)\n",
    "            # Calculo de (mk) = (G.T R G)-1 G.T R d\n",
    "            mkp1=np.matmul(GT_R_G_inv_arr,GT_R_d_arr)\n",
    "\n",
    "            # Atualização do critério de tolerância para a iteração atual (regra definida na pg. 47)\n",
    "            t = np.sqrt(np.sum((mkp1-mk)**2))/(1+np.sqrt(np.sum((mkp1)**2)))\n",
    "            # Atualização do melhor modelo obtido para o modelo (mk) obtido na iteração atual\n",
    "            mk=mkp1\n",
    "            # Calculo do novo vetor de residuos obtido agora com o modelo mk\n",
    "            rk=abs(d_-np.matmul(G,mk))\n",
    "            # Truncamento dos residuous muito pequenos, os quais podem causar instabilidade no algoritmo (pg. 47)\n",
    "            rk[rk<1e-5]=1e-5\n",
    "            # Criação da nova matriz de pesos R, utilizando o novo vetor de resíduos rk\n",
    "            R=np.eye(len(rk[:,0]))*rk\n",
    "\n",
    "            # Verficação se o critério de tolerância foi alcançado para definir se o algoritmo deve continuar\n",
    "            if (t <= tol):\n",
    "                print(\"Reached tolerance: {} <= {}\".format(t,tol))\n",
    "        mk=mk.reshape((len(mk))) \n",
    "        m_L1_all[:,j]=mk\n",
    "    # Após término do laço coloca o melhor modelo obtido (mk) no formato de vetor coluna        \n",
    "\n",
    "\n",
    "    return(m_L1_all)"
   ]
  },
  {
   "cell_type": "code",
   "execution_count": 19,
   "metadata": {},
   "outputs": [
    {
     "name": "stdout",
     "output_type": "stream",
     "text": [
      "Reached tolerance: 3.050672237940896e-05 <= 0.001\n",
      "Reached max number of iterations: 1000\n",
      "Reached max number of iterations: 1000\n"
     ]
    }
   ],
   "source": [
    "#18) Cálculo da solução pela minimização da norma L1 utilizando o algoritmo IRLS\n",
    "# com o modelo resultante da pseudoinversa de G\n",
    "ml11_pinv=L1Solution(G,d_all,m_pinv,1000)"
   ]
  },
  {
   "cell_type": "code",
   "execution_count": 20,
   "metadata": {},
   "outputs": [
    {
     "name": "stdout",
     "output_type": "stream",
     "text": [
      "Reached tolerance: 0.00010092595514404624 <= 0.001\n",
      "Reached max number of iterations: 1000\n",
      "Reached max number of iterations: 1000\n"
     ]
    }
   ],
   "source": [
    "#19) Cálculo da solução pela minimização da norma L1 utilizando o algoritmo IRLS\n",
    "# com o modelo resultante da pseudoinversa de G com último valor singular truncado\n",
    "ml11_pinv_trunc=L1Solution(G,d_all,m_pinv_trunc,1000)"
   ]
  },
  {
   "cell_type": "code",
   "execution_count": 21,
   "metadata": {},
   "outputs": [
    {
     "name": "stdout",
     "output_type": "stream",
     "text": [
      "Modelo real: \n",
      " [[1.   1.   1.  ]\n",
      " [0.2  0.2  0.2 ]\n",
      " [3.   3.   3.  ]\n",
      " [0.04 0.04 0.04]\n",
      " [0.   0.   0.  ]\n",
      " [0.   0.   0.  ]] \n",
      "\n",
      "|m-m_real|: \n",
      " [[0.   0.67 2.27]\n",
      " [0.   1.59 7.76]\n",
      " [0.   0.95 6.65]\n",
      " [0.   0.22 2.11]\n",
      " [0.   0.02 0.27]\n",
      " [0.   0.   0.01]] \n",
      "\n",
      "|m°(L1) - m_real|: \n",
      " [[0.   0.45 2.4 ]\n",
      " [0.   1.19 7.61]\n",
      " [0.   0.74 6.37]\n",
      " [0.   0.18 1.99]\n",
      " [0.   0.02 0.25]\n",
      " [0.   0.   0.01]] \n",
      "\n",
      "|m°_truncado(L1) - m_real|: \n",
      " [[0.   0.35 2.31]\n",
      " [0.   1.01 7.27]\n",
      " [0.   0.61 6.1 ]\n",
      " [0.   0.14 1.91]\n",
      " [0.   0.01 0.24]\n",
      " [0.   0.   0.01]] \n",
      "\n"
     ]
    }
   ],
   "source": [
    "#20) Calculando diferença absoluta entre parâmetros do modelo real e modelo obtido pela minimização da norma L1 com\n",
    "# o algoritmo IRLS inicializado pelos modelos obtidos pela pseudoinversa de G com e sem truncamento do último/menor\n",
    "# valor singular\n",
    "m_real=np.array([[1,0.2,3.,0.04,0.,0.],[1,0.2,3.,0.04,0.,0.],[1,0.2,3.,0.04,0.,0.]]).T\n",
    "print(\"Modelo real: \\n\",m_real,\"\\n\")\n",
    "\n",
    "# Basta entao calcular a diferenca absoluta entre cada um dos modelos obtidos, m (pelas equacoes normais)\n",
    "# e m° (pela pseudo inversa de G, G°),e o modelo real m_real\n",
    "print(\"|m-m_real|: \\n\",abs(np.round(m-m_real,2)),\"\\n\")\n",
    "print(\"|m°(L1) - m_real|: \\n\",abs(np.round(ml11_pinv-m_real,2)),\"\\n\")\n",
    "print(\"|m°_truncado(L1) - m_real|: \\n\",abs(np.round(ml11_pinv_trunc-m_real,2)),\"\\n\")"
   ]
  },
  {
   "cell_type": "markdown",
   "metadata": {},
   "source": [
    "20) Uma outra forma de se avaliar o ajuste dos modelos obtidos é quantificando a diferença entre os dados reais e dados estimados pelo modelo. Uma métrica usualmente utilizada com esse objetivo é o erro médio quadrático ($\\textit{mean squared error}$) $\\textbf{MSE}$, o qual pode ser calculado através de\n",
    "\n",
    "$\\begin{equation}\n",
    "MSE =  \\large\\frac{\\sum_{i=1}^{m}(d_{i} - \\hat{d}_{i})^{2}}{m}\n",
    "\\end{equation}$\n",
    "\n",
    ", onde $\\mathbf{d}$ e $\\mathbf{\\hat{d}}$ são colunas de cada uma das matrizes $\\mathbf{D}$ e $\\mathbf{\\hat{D}}$ respectivamente, cada uma correspondente aos três diferentes conjuntos de dados ($\\mathbf{d}$, $\\mathbf{d} + \\Delta$ e $\\mathbf{d} + \\Delta$ + $outliers$)."
   ]
  },
  {
   "cell_type": "code",
   "execution_count": 22,
   "metadata": {
    "collapsed": true
   },
   "outputs": [],
   "source": [
    "#20) Função que faz predições a partir dos modelos/parâmetros estimados, \n",
    "# e computa o erro médio quadrático entre predições e dados reais para avaliação da qualidade do modelo ajustado.\n",
    "def PredictMSE(G,m,d_all):\n",
    "    \n",
    "    d_hat=np.matmul(G,m)\n",
    "    MSE_list=[]\n",
    "    for j in range(0,len(d_all[0,:])):\n",
    "        MSE=np.sum(np.add(d_all[:,j].ravel(),-d_hat[:,j].ravel())**2)/len(d_all[:,j])\n",
    "        MSE_list.append(MSE)\n",
    "\n",
    "    print(\"MSE da solução para (d): {}\".format(MSE_list[0]))\n",
    "    print(\"MSE da solução para (d + delta): {}\".format(MSE_list[1]))\n",
    "    print(\"MSE da solução para (d + delta + outliers): {}\".format(MSE_list[2]))    \n",
    "    \n",
    "    return(d_hat)"
   ]
  },
  {
   "cell_type": "code",
   "execution_count": 23,
   "metadata": {
    "scrolled": true
   },
   "outputs": [
    {
     "name": "stdout",
     "output_type": "stream",
     "text": [
      "MSE da solução para (d): 7.935238170399743e-10\n",
      "MSE da solução para (d + delta): 0.28091180958167383\n",
      "MSE da solução para (d + delta + outliers): 25.926956253437723\n"
     ]
    }
   ],
   "source": [
    "#21) Cálculo de MSE entre dados preditos e reais utilizando o modelo obtido pela pseudoinversa de G\n",
    "d_hat_pinv=PredictMSE(G,m_pinv,d_all)"
   ]
  },
  {
   "cell_type": "code",
   "execution_count": 24,
   "metadata": {},
   "outputs": [
    {
     "name": "stdout",
     "output_type": "stream",
     "text": [
      "MSE da solução para (d): 0.013057396221691959\n",
      "MSE da solução para (d + delta): 0.34461735732784227\n",
      "MSE da solução para (d + delta + outliers): 26.639435014129045\n"
     ]
    }
   ],
   "source": [
    "#22) Cálculo de MSE entre dados preditos e reais utilizando o modelo obtido pela pseudoinversa de G com\n",
    "# truncamento do menor valor singular\n",
    "d_hat_pinv_trunc=PredictMSE(G,m_pinv_trunc,d_all)"
   ]
  },
  {
   "cell_type": "code",
   "execution_count": 25,
   "metadata": {},
   "outputs": [
    {
     "name": "stdout",
     "output_type": "stream",
     "text": [
      "MSE da solução para (d): 1.0344887710178113e-09\n",
      "MSE da solução para (d + delta): 0.284132160186009\n",
      "MSE da solução para (d + delta + outliers): 27.557505335823326\n"
     ]
    }
   ],
   "source": [
    "#23) Cálculo de MSE entre dados preditos e reais utilizando a solução pela minimização da norma L1\n",
    "# com IRLS iniciado pelo modelo obtido com a pseudoinversa de G\n",
    "d_hat_pinv_l1=PredictMSE(G,ml11_pinv,d_all)"
   ]
  },
  {
   "cell_type": "code",
   "execution_count": 26,
   "metadata": {},
   "outputs": [
    {
     "name": "stdout",
     "output_type": "stream",
     "text": [
      "MSE da solução para (d): 9.33567424688856e-10\n",
      "MSE da solução para (d + delta): 0.28754714091849615\n",
      "MSE da solução para (d + delta + outliers): 27.68829500081878\n"
     ]
    }
   ],
   "source": [
    "#24) Cálculo de MSE entre dados preditos e reais utilizando a solução pela minimização da norma L1\n",
    "# com IRLS iniciado pelo modelo obtido com a pseudoinversa de G com\n",
    "# truncamento do menor valor singular\n",
    "d_hat_pinv_trunc_l1=PredictMSE(G,ml11_pinv_trunc,d_all)"
   ]
  },
  {
   "cell_type": "markdown",
   "metadata": {},
   "source": [
    "25) Uma avaliação qualitativa também pode ser feita pelo gráfico das curvas obtidas para cada um dos modelos, em relação a cada um dos conjuntos de dados $\\mathbf{d}$, $\\mathbf{d} + \\Delta$, ou $\\mathbf{d} + \\Delta$ + $outliers$"
   ]
  },
  {
   "cell_type": "code",
   "execution_count": 27,
   "metadata": {
    "collapsed": true
   },
   "outputs": [],
   "source": [
    "#25) Função que exibe os dados e as curvas ajustadas por cada uma das diferentes soluções obtidas \n",
    "# pelo uso da pseudoinversa de G com e sem truncamento do menor valor singular e\n",
    "# pela minimização da norma L1 com algoritmo IRLS inicializado pelo modelo obtido da pseudoinversa generalizada\n",
    "# com e sem truncamento o menor valor singular. \n",
    "# O parâmetro d_set permite a escolha de para qual conjunto de dados se deseja plotar.\n",
    "def PlotCurveFits(trab1_df,d_all,d_hat_pinv,d_hat_pinv_trunc,d_hat_pinv_l1,d_hat_pinv_trunc_l1,d_set):\n",
    "    # Visualização do ajuste dos modelos obtidos aos dados\n",
    "    fig_dt, (ax1)=plt.subplots(1,1,figsize=(10.7,6.2))\n",
    "    points=np.random.choice(np.arange(0,100),60)\n",
    "    x_1=trab1_df[r\"$x^1$\"].to_numpy()\n",
    "    fig_dt.set_facecolor(\"silver\")\n",
    "    labels=[r\"$d$\",r\"$d + \\Delta$\",r\"$d + \\Delta + outliers$\"]\n",
    "    ax1.scatter(x_1[points],d_all[points,d_set],label=labels[d_set],c=\"blue\")\n",
    "    ax1.plot(x_1,d_hat_pinv[:,d_set],c=\"red\",label=\"Curva ajustada - $G^{\\phi}$\")\n",
    "    ax1.plot(x_1,d_hat_pinv_trunc[:,d_set],c=\"green\",label=\"Curva ajustada - $G^{\\phi}$ truncada\")\n",
    "    ax1.plot(x_1,d_hat_pinv_l1[:,d_set],c=\"yellow\",label=\"Curva ajustada - $G^{\\phi}$ (L1)\")\n",
    "    ax1.plot(x_1,d_hat_pinv_trunc_l1[:,d_set],c=\"purple\",label=\"Curva ajustada - $G^{\\phi}$ truncada (L1)\")    \n",
    "    ax1.grid()\n",
    "    ax1.legend()\n",
    "    \n",
    "    return()"
   ]
  },
  {
   "cell_type": "code",
   "execution_count": 28,
   "metadata": {},
   "outputs": [
    {
     "data": {
      "text/plain": [
       "()"
      ]
     },
     "execution_count": 28,
     "metadata": {},
     "output_type": "execute_result"
    },
    {
     "data": {
      "image/png": "[encoded data removed]",
      "text/plain": [
       "<Figure size 770.4x446.4 with 1 Axes>"
      ]
     },
     "metadata": {},
     "output_type": "display_data"
    }
   ],
   "source": [
    "#26) Curvas dos modelos obtidos aplicados ao conjunto de dados d\n",
    "PlotCurveFits(trab1_df,d_all,d_hat_pinv,d_hat_pinv_trunc,d_hat_pinv_l1,d_hat_pinv_trunc_l1,0)"
   ]
  },
  {
   "cell_type": "code",
   "execution_count": 29,
   "metadata": {},
   "outputs": [
    {
     "data": {
      "text/plain": [
       "()"
      ]
     },
     "execution_count": 29,
     "metadata": {},
     "output_type": "execute_result"
    },
    {
     "data": {
      "image/png": "[encoded data removed]",
      "text/plain": [
       "<Figure size 770.4x446.4 with 1 Axes>"
      ]
     },
     "metadata": {},
     "output_type": "display_data"
    }
   ],
   "source": [
    "#27) Curvas dos modelos obtidos aplicados ao conjunto de dados d + delta\n",
    "PlotCurveFits(trab1_df,d_all,d_hat_pinv,d_hat_pinv_trunc,d_hat_pinv_l1,d_hat_pinv_trunc_l1,1)"
   ]
  },
  {
   "cell_type": "code",
   "execution_count": 30,
   "metadata": {},
   "outputs": [
    {
     "data": {
      "text/plain": [
       "()"
      ]
     },
     "execution_count": 30,
     "metadata": {},
     "output_type": "execute_result"
    },
    {
     "data": {
      "image/png": "[encoded data removed]",
      "text/plain": [
       "<Figure size 770.4x446.4 with 1 Axes>"
      ]
     },
     "metadata": {},
     "output_type": "display_data"
    }
   ],
   "source": [
    "#28) Curvas dos modelos obtidos aplicados ao conjunto de dados d + delta + outliers\n",
    "PlotCurveFits(trab1_df,d_all,d_hat_pinv,d_hat_pinv_trunc,d_hat_pinv_l1,d_hat_pinv_trunc_l1,2)"
   ]
  },
  {
   "cell_type": "markdown",
   "metadata": {},
   "source": [
    "### Conclusão \n",
    "Foi possível verificar que quando o problema é de posto completo a solução pelo uso da pseudoinversa $\\mathbf{G}^{\\phi}$ resultante da SVD de $\\mathbf{G}$ é de fato uma solução de mínimos quadrados (mostrado em #16 e #20). Além disso, o truncamento do menor valor singular de $\\mathbf{G}$ mostrou ter um pequeno efeito regularizador sobre a solução obtida com $\\mathbf{G}^{\\phi}$ (mostrado em #28), reduzindo o efeito do sobreajuste de um polinômio de 5° grau aos dados gerados por um modelo real polinomial de 3° grau."
   ]
  },
  {
   "cell_type": "markdown",
   "metadata": {},
   "source": [
    "#### Referências\n",
    "\n",
    "Aster, R., Borchers, B., Thurber, C., Parameter Estimation and Inverse Problems, Third Edition, Elsevier Academic Press, 404 pp., 2018. "
   ]
  },
  {
   "cell_type": "code",
   "execution_count": null,
   "metadata": {
    "collapsed": true
   },
   "outputs": [],
   "source": [
    "####################################################################################################################"
   ]
  }
 ],
 "metadata": {
  "kernelspec": {
   "display_name": "Python 3",
   "language": "python",
   "name": "python3"
  },
  "language_info": {
   "codemirror_mode": {
    "name": "ipython",
    "version": 3
   },
   "file_extension": ".py",
   "mimetype": "text/x-python",
   "name": "python",
   "nbconvert_exporter": "python",
   "pygments_lexer": "ipython3",
   "version": "3.6.2"
  }
 },
 "nbformat": 4,
 "nbformat_minor": 2
}
